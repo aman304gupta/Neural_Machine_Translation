{
  "cells": [
    {
      "metadata": {
        "trusted": true,
        "_uuid": "cbff5a93d3b8356ebb57c99b4f7658d4ef0900a4"
      },
      "cell_type": "code",
      "source": "from __future__ import absolute_import, division, print_function\n\nimport tensorflow as tf\n\ntf.enable_eager_execution() ## enabling eager\n\nimport matplotlib.pyplot as plt\nfrom sklearn.model_selection import train_test_split\n\nimport unicodedata\nimport re\nimport numpy as np\nimport os\nimport time",
      "execution_count": 19,
      "outputs": []
    },
    {
      "metadata": {
        "trusted": true,
        "_uuid": "c613818caffabf874381faf7fa5d2489bec99096"
      },
      "cell_type": "code",
      "source": "print(tf.__version__)",
      "execution_count": 20,
      "outputs": [
        {
          "output_type": "stream",
          "text": "1.11.0-rc1\n",
          "name": "stdout"
        }
      ]
    },
    {
      "metadata": {
        "trusted": true,
        "_uuid": "487e230e81f50de2c02915169b55732ddc8bec5e"
      },
      "cell_type": "code",
      "source": "## Check if it is executing eagerly\ntf.executing_eagerly()",
      "execution_count": 21,
      "outputs": [
        {
          "output_type": "execute_result",
          "execution_count": 21,
          "data": {
            "text/plain": "True"
          },
          "metadata": {}
        }
      ]
    },
    {
      "metadata": {
        "trusted": true,
        "_uuid": "b9bd5a26e013f9b5dfd8abab520eb5595b99b05c"
      },
      "cell_type": "code",
      "source": "path_to_file = \"./spa-eng/spa.txt\"",
      "execution_count": 22,
      "outputs": []
    },
    {
      "metadata": {
        "trusted": true,
        "_uuid": "de6f95429828c20ad9d0b791ea792a2e1d1bb572"
      },
      "cell_type": "code",
      "source": "def unicode_to_ascii(s):\n    ## unicodedata.normalize -- is normalizing the sentence to NFD form\n    return ''.join(c for c in unicodedata.normalize('NFD',s) \n                   if unicodedata.category(c) != 'Mn')",
      "execution_count": 23,
      "outputs": []
    },
    {
      "metadata": {
        "trusted": true,
        "_uuid": "77075b811cf8f7a1f8fce60ad192671a35f8d99e"
      },
      "cell_type": "code",
      "source": "def preprocess_sentence(w):\n    w = unicode_to_ascii(w.lower().strip())\n    \n    w = re.sub(r\"([?.!,¿])\", r\" \\1 \", w)\n    w = re.sub(r'[\" \"]+', \" \", w)\n    \n    # replacing everything with space except (a-z, A-Z, \".\", \"?\", \"!\", \",\")\n    w = re.sub(r\"[^a-zA-Z?.!,¿]+\", \" \", w)\n    \n    w = w.rstrip().strip()\n    \n    # adding a start and an end token to the sentence\n    # so that the model know when to start and stop predicting.\n    w = '<start> ' + w + ' <end>'\n    return w",
      "execution_count": 24,
      "outputs": []
    },
    {
      "metadata": {
        "trusted": true,
        "_uuid": "4f1b95ac5254e1bf682f674b974057d75ccc60b6"
      },
      "cell_type": "code",
      "source": "## fxn - create dataset - \n#i/p -> filename, how many pairs to be extracted\n# o/p -> pairs of 2 languages\n\ndef create_dataset(filename, num_examples):\n    \n    lines = open(filename, encoding='UTF-8').read().strip().split('\\n')\n    ## lines[0] = 'English word    French word'\n    \n    word_pairs = [[preprocess_sentence(pair) for pair in line.split('\\t')] for line in lines[:num_examples]]\n    ## word_pairs[0] = [['english word',\"French word\"]]\n    \n    return word_pairs",
      "execution_count": 25,
      "outputs": []
    },
    {
      "metadata": {
        "trusted": true,
        "_uuid": "a05101493821e10f773e1b2b6cfd8bf6afb9a1a5"
      },
      "cell_type": "code",
      "source": "## class creates dixtionary mapping -- word to index && index to word\nclass LanguageIndex():\n    \n    def __init__(self, lang):\n        \n        self.lang = lang\n        self.word2idx = {} ## dict -- word 2 index\n        self.idx2word = {} ## dict -- index to word\n        self.vocab = set() ## creating a set for vocab\n        ## caall this class's method\n        self.create_index()\n        \n    def create_index(self):\n        \n        for phrase in self.lang: ## dividing the phrases of language\n            self.vocab.update(phrase.split(\" \")) ## adding to set\n            \n        self.vocab = sorted(self.vocab)\n        \n        self.word2idx['<pad>'] = 0 ## set first word's index as zero\n        \n        for index, word in enumerate(self.vocab): ## since enumerate therefore index\n            self.word2idx[word] = index + 1\n            \n        for word, index in self.word2idx.items(): ## iterating over dictionary\n            self.idx2word[index] = word",
      "execution_count": 26,
      "outputs": []
    },
    {
      "metadata": {
        "trusted": true,
        "_uuid": "23ee782f113cee45f34f5532faffe9e8533cf295"
      },
      "cell_type": "code",
      "source": "## finding max length\ndef max_length(tensor):\n    return max(len(t) for t in tensor)",
      "execution_count": 27,
      "outputs": []
    },
    {
      "metadata": {
        "trusted": true,
        "_uuid": "98934cc3eb27b845f3f2a361d9ab9100d9fab824"
      },
      "cell_type": "code",
      "source": "\ndef load_dataset(path, num_examples):\n    \n    ## path -- filename, num_examples -- examples to be included\n    pairs = create_dataset(path, num_examples) # word pairs created --pairs[0] = [['english word','french word']]\n        \n    ## calling init fxn of class and thus creating object\n    inp_lang = LanguageIndex(sp for en, sp in pairs)\n    targ_lang = LanguageIndex(en for en, sp in pairs)\n    \n    ## spanish sentences -- each word converted to it's index\n    input_tensor = [[inp_lang.word2idx[s] for s in sp.split(' ')] for en, sp in pairs]\n    \n    ## english sentences -- each word converted to it's index\n    target_tensor = [[targ_lang.word2idx[e] for e in en.split(' ')] for en,sp in pairs]\n    \n    max_length_inp, max_length_tar = max_length(input_tensor), max_length(target_tensor)\n    \n    ## psot padding both tensors\n    input_tensor = tf.keras.preprocessing.sequence.pad_sequences(input_tensor, \n                                                                maxlen=max_length_inp,\n                                                               padding='post')\n    \n    target_tensor = tf.keras.preprocessing.sequence.pad_sequences(target_tensor,\n                                                                maxlen=max_length_tar,\n                                                                padding='post')\n    \n    ## returning padded tensors' && i/p o/p lang objects, and aximum lengthh of oth tensors\n    return input_tensor, target_tensor, inp_lang, targ_lang, max_length_inp, max_length_tar",
      "execution_count": 28,
      "outputs": []
    },
    {
      "metadata": {
        "trusted": true,
        "_uuid": "383009dba8c90aac8c757ea9bc76cf3193dc0168"
      },
      "cell_type": "code",
      "source": "num_examples = 30000\npath_to_file = \"../input/spa.txt\"\ninput_tensor, target_tensor, inp_lang, targ_lang, max_length_inp, max_length_tar= load_dataset(path_to_file, num_examples)",
      "execution_count": 30,
      "outputs": []
    },
    {
      "metadata": {
        "trusted": true,
        "_uuid": "a568b827d64605769bd232d904f46464e53f9276"
      },
      "cell_type": "code",
      "source": "input_tensor_train, input_tensor_val, target_tensor_train, target_tensor_val = train_test_split(input_tensor, target_tensor, test_size = 0.2)",
      "execution_count": 31,
      "outputs": []
    },
    {
      "metadata": {
        "trusted": true,
        "_uuid": "a163682342b5b4b777f4beea5d0d8374f79165bd"
      },
      "cell_type": "code",
      "source": "print(len(input_tensor_train),len(input_tensor_val), len(target_tensor_train), len(target_tensor_val))",
      "execution_count": 32,
      "outputs": [
        {
          "output_type": "stream",
          "text": "24000 6000 24000 6000\n",
          "name": "stdout"
        }
      ]
    },
    {
      "metadata": {
        "trusted": true,
        "_uuid": "36d36428a7f06a94c52a8d03cd270ba5626c60a4"
      },
      "cell_type": "code",
      "source": "BUFFER_SIZE = len(input_tensor_train)\nBATCH_SIZE = 64\nN_BATCH = BUFFER_SIZE/ BATCH_SIZE\nembedding_dim = 256\nunits = 1024\nvocab_inp_size = len(inp_lang.word2idx)\nvocab_tar_size = len(targ_lang.word2idx)\n\n## creating dataset using data API\ndataset = tf.data.Dataset.from_tensor_slices((input_tensor_train, target_tensor_train)).shuffle(BUFFER_SIZE)\n## Settign batch -- .batch will add extra dimension batch size denoting no of element witjin a batch\ndataset = dataset.batch(BATCH_SIZE, drop_remainder = True) ## i.e drop the last batch",
      "execution_count": 33,
      "outputs": []
    },
    {
      "metadata": {
        "trusted": true,
        "_uuid": "0c69df1e5e52c2df206c326fdce5e1502b290d9f"
      },
      "cell_type": "code",
      "source": "",
      "execution_count": null,
      "outputs": []
    },
    {
      "metadata": {
        "trusted": true,
        "_uuid": "0f15c44c42e489fcda119ea8e8efc7c8020fda93"
      },
      "cell_type": "code",
      "source": "## defining GRU UNits\ndef gru(units):\n    \n    return tf.keras.layers.GRU(units, return_sequences = True, \n                    return_state = True, recurrent_activation='sigmoid',\n                        recurrent_initializer='glorot_uniform')",
      "execution_count": 34,
      "outputs": []
    },
    {
      "metadata": {
        "trusted": true,
        "_uuid": "5d446cd288335a66812eae22150ec748b6b5e862"
      },
      "cell_type": "code",
      "source": "## Encoder class\nclass Encoder(tf.keras.Model):\n    \n    def __init__(self, vocab_size, embedding_dim, enc_units, batch_sz):\n        ## calling parent's contructor\n        super(Encoder, self).__init__()\n        self.batch_sz = batch_sz\n        self.enc_units = enc_units\n        self.embedding = tf.keras.layers.Embedding(vocab_size, embedding_dim)\n        self.gru = gru(self.enc_units)\n        \n    def call(self, x, hidden):\n        \n        x = self.embedding(x)\n        output, state = self.gru(x, initial_state = hidden)\n        ## state is hidden of current \n        return output, state\n    \n    def initialize_hidden_state(self):\n        return tf.zeros((self.batch_sz, self.enc_units))",
      "execution_count": 35,
      "outputs": []
    },
    {
      "metadata": {
        "trusted": true,
        "_uuid": "8c794a0f0b613f6b9fa7ccf71e104ae9b5f047dd"
      },
      "cell_type": "code",
      "source": "## Decoder class\nclass Decoder(tf.keras.Model):\n    \n    def __init__(self, vocab_size, embedding_dim, dec_units, batch_sz):\n        \n        super(Decoder,self).__init__()\n        self.batch_sz = batch_sz\n        self.dec_units = dec_units\n        self.embedding = tf.keras.layers.Embedding(vocab_size, embedding_dim)\n        self.gru = gru(self.dec_units)\n        self.fc = tf.keras.layers.Dense(vocab_size) ## final \n        \n        ## For attention\n        self.W1 = tf.keras.layers.Dense(self.dec_units) ##op shape: (batch_size,...,dec_units)\n        self.W2 = tf.keras.layers.Dense(self.dec_units)## op shape: (batch size, ... dec units)\n        self.V = tf.keras.layers.Dense(1) ## op shape: (Batch size,...,1)\n        \n        ## x is input\n        ## enc_utput.shape = (batch size, max lenghth, hidden size)\n        ## hidden.shape = (batch size, hidden size)\n    def call(self,x,hidden, enc_output):\n        \n        hidden_with_time_axis = tf.expand_dims(hidden, 1) ## add dimension at axis = 1\n        ## shape is (batch size, 1, hidden size)\n        \n       # print(\"Hidden_with_time_axis: {}\".format(tf.shape(hidden_with_time_axis)))\n        \n        score = tf.nn.tanh( self.W1(enc_output) + self.W2(hidden_with_time_axis))\n## score.shape after tanh shape woud be same i.e (batch_size, max_length, dec_units)\n\n#         print(\"Score: {}\".format(tf.shape(score)))\n        \n## after self.V -- shape is (batch_size, max_length, 1) -- after softmax shape is same\n        attention_weights = tf.nn.softmax(self.V(score), axis = 1)\n    \n#         print(\"Attention_weights: {}\".format(tf.shape(attention_weights)))\n        \n        context_vector = attention_weights * enc_output\n        \n#         print(\"Context_vector: {}\".format(tf.shape(context_vector)))\n        \n        context_vector = tf.reduce_sum(context_vector, axis = 1)\n#         print(\"Context_vecotr: {}\".format(tf.shape(context_vector)))\n        \n        x = self.embedding(x)\n        \n        x = tf.concat([tf.expand_dims(context_vector, 1), x], axis = -1)\n        \n        output, state = self.gru(x)\n        \n        output = tf.reshape(output, (-1, output.shape[2]))\n        \n        x = self.fc(output)\n        \n        return x, state, attention_weights\n    \n    def initialize_hidden_state(self):\n        return tf.zeros((self.batch_sz, self.dec_units))",
      "execution_count": 36,
      "outputs": []
    },
    {
      "metadata": {
        "trusted": true,
        "_uuid": "62131345134e85fb7ab76eb6860985cf5534afc1"
      },
      "cell_type": "code",
      "source": "",
      "execution_count": null,
      "outputs": []
    },
    {
      "metadata": {
        "trusted": true,
        "_uuid": "3dc95dd9ccffbbc5a0509951ee090bd025d609d8"
      },
      "cell_type": "code",
      "source": "## Objects defining\nencoder = Encoder(vocab_inp_size, embedding_dim, units, BATCH_SIZE)\ndecoder = Decoder(vocab_tar_size, embedding_dim, units, BATCH_SIZE)",
      "execution_count": 37,
      "outputs": []
    },
    {
      "metadata": {
        "trusted": true,
        "_uuid": "4514dda5bfebd51b4e7819560f47aa646187fe6a"
      },
      "cell_type": "code",
      "source": "optimizer = tf.train.AdamOptimizer()\n\ndef loss_function(real, pred):\n    mask = 1 - np.equal(real, 0)\n    loss = tf.nn.sparse_softmax_cross_entropy_with_logits(labels = real, logits = pred) * mask\n    return tf.reduce_mean(loss)",
      "execution_count": 38,
      "outputs": []
    },
    {
      "metadata": {
        "trusted": true,
        "_uuid": "dd5547c859c4b2a5e498fd7e56c9ee8c52292ddf"
      },
      "cell_type": "code",
      "source": "checkpoint_dir = \"./checkpoints\"\ncheckpoint_prefix = os.path.join(checkpoint_dir, \"ckpt\")\ncheckpoint = tf.train.Checkpoint(optimizer = optimizer, \n                                 encoder = encoder, decoder = decoder)",
      "execution_count": 39,
      "outputs": []
    },
    {
      "metadata": {
        "trusted": true,
        "_uuid": "d2f393540dead649ce376589079b9ae9fa0a63ea"
      },
      "cell_type": "code",
      "source": "",
      "execution_count": null,
      "outputs": []
    },
    {
      "metadata": {
        "trusted": true,
        "_uuid": "d5dc3a61caf56ff62f1dede4f759be1ffe43c046"
      },
      "cell_type": "code",
      "source": "EPOCHS = 10\n\nfor epoch in range(EPOCHS):\n    \n    start = time.time()\n    \n    hidden = encoder.initialize_hidden_state() ## calling object fxns\n    total_loss = 0\n    \n    ## since enumerate batch will have 0,1,2,...\n    ##inp - eng word;  targ - freanch worsd\n    for (batch, (inp, targ)) in enumerate(dataset):\n        loss = 0\n        ## start backprop\n        with tf.GradientTape() as tape:\n            enc_output, enc_hidden = encoder(inp, hidden)\n#             print(\"Batch {}\".format(batch))\n#             print(\"input shape : {}\".format(tf.shape(inp)))\n#             print(\"hiddne shape: {}\".format(tf.shape(hidden)))\n#             print(\"Encoder output shape: {}\".format(tf.shape(enc_output)))\n#             print(\"Encoder hiddern shape: {}\".format(tf.shape(enc_hidden)))\n            \n            dec_hidden = enc_hidden\n      ## We are doing batch training -- therefore * batch size      \n            dec_input = tf.expand_dims([targ_lang.word2idx['<start>']] * BATCH_SIZE, 1)\n            ## dec_input.shape = (64,1)\n            ## dec_input - [5] repeated 64times\n  ## teacher feeding --- for every decoder cell will feeding dec_input          \n            for t in range(1, targ.shape[1]): ## targ.shape[1] == 11\n                \n                predictions, dec_hidden, _ = decoder(dec_input, dec_hidden, enc_output)\n                \n#                 print(\"For t: {}\".format(t))\n#                 print(tf.shape(predictions))\n#                 print(tf.shape(dec_hidden))\n                \n                loss += loss_function(targ[:,t], predictions)\n                \n                dec_input = tf.expand_dims(targ[:,t], 1)\n                ## dec_input.shape = (64,1)\n                ## dec_input are basically 64 ints -- one for each sample in batch\n        \n        batch_loss = (loss / int(targ.shape[1]))\n        \n        total_loss += batch_loss\n        variables = encoder.variables + decoder.variables\n        ## compute gradients\n        gradients = tape.gradient(loss, variables) ## i.e diff of loss wrt variables\n        \n        optimizer.apply_gradients(zip(gradients, variables))\n        ## update variables with gradients\n        \n        if batch % 100 == 0:\n            print(\"Epoch {} Batch {} Loss {:.4f}\".format(epoch +1, batch, \n                                                         batch_loss.numpy()))\n            \n    if (epoch + 1) % 2 == 0:\n        checkpoint.save(file_prefix = checkpoint_prefix)\n        \n    print('Epoch {} Loss {:.4f}'.format(epoch + 1,\n                                        total_loss / N_BATCH))\n    print('Time taken for 1 epoch {} sec\\n'.format(time.time() - start))",
      "execution_count": 40,
      "outputs": [
        {
          "output_type": "stream",
          "text": "Epoch 1 Batch 0 Loss 4.6744\nEpoch 1 Batch 100 Loss 2.2491\nEpoch 1 Batch 200 Loss 1.8030\nEpoch 1 Batch 300 Loss 1.7373\nEpoch 1 Loss 2.0695\nTime taken for 1 epoch 157.9690134525299 sec\n\nEpoch 2 Batch 0 Loss 1.5630\nEpoch 2 Batch 100 Loss 1.5414\nEpoch 2 Batch 200 Loss 1.5848\nEpoch 2 Batch 300 Loss 1.4493\nEpoch 2 Loss 1.5219\nTime taken for 1 epoch 157.32786417007446 sec\n\nEpoch 3 Batch 0 Loss 1.2022\nEpoch 3 Batch 100 Loss 1.3390\nEpoch 3 Batch 200 Loss 1.2607\nEpoch 3 Batch 300 Loss 1.1562\nEpoch 3 Loss 1.2032\nTime taken for 1 epoch 157.24312281608582 sec\n\nEpoch 4 Batch 0 Loss 1.0034\nEpoch 4 Batch 100 Loss 0.9320\nEpoch 4 Batch 200 Loss 0.8566\nEpoch 4 Batch 300 Loss 0.9028\nEpoch 4 Loss 0.8871\nTime taken for 1 epoch 157.5782060623169 sec\n\nEpoch 5 Batch 0 Loss 0.6579\nEpoch 5 Batch 100 Loss 0.7265\nEpoch 5 Batch 200 Loss 0.6452\nEpoch 5 Batch 300 Loss 0.6247\nEpoch 5 Loss 0.6316\nTime taken for 1 epoch 158.78693294525146 sec\n\nEpoch 6 Batch 0 Loss 0.4052\nEpoch 6 Batch 100 Loss 0.3777\nEpoch 6 Batch 200 Loss 0.4376\nEpoch 6 Batch 300 Loss 0.4666\nEpoch 6 Loss 0.4493\nTime taken for 1 epoch 158.56942701339722 sec\n\nEpoch 7 Batch 0 Loss 0.3252\nEpoch 7 Batch 100 Loss 0.3056\nEpoch 7 Batch 200 Loss 0.2443\nEpoch 7 Batch 300 Loss 0.2741\nEpoch 7 Loss 0.3231\nTime taken for 1 epoch 158.71307253837585 sec\n\nEpoch 8 Batch 0 Loss 0.2279\nEpoch 8 Batch 100 Loss 0.2168\nEpoch 8 Batch 200 Loss 0.2646\nEpoch 8 Batch 300 Loss 0.2405\nEpoch 8 Loss 0.2386\nTime taken for 1 epoch 158.6999156475067 sec\n\nEpoch 9 Batch 0 Loss 0.1504\nEpoch 9 Batch 100 Loss 0.1081\nEpoch 9 Batch 200 Loss 0.1441\nEpoch 9 Batch 300 Loss 0.1679\nEpoch 9 Loss 0.1818\nTime taken for 1 epoch 158.69963669776917 sec\n\nEpoch 10 Batch 0 Loss 0.1261\nEpoch 10 Batch 100 Loss 0.1590\nEpoch 10 Batch 200 Loss 0.1382\nEpoch 10 Batch 300 Loss 0.1734\nEpoch 10 Loss 0.1428\nTime taken for 1 epoch 158.75364327430725 sec\n\n",
          "name": "stdout"
        }
      ]
    },
    {
      "metadata": {
        "trusted": true,
        "_uuid": "45288f902d0b7171f8c4706d0e50b70e1ba3f6d8"
      },
      "cell_type": "code",
      "source": "def evaluate(sentence, encoder, decoder, inp_lang, targ_lang, max_length_inp, max_length_targ):\n    \n                                #(11,16) -- 11 rows 16 columns of zeros\n    attention_plot = np.zeros((max_length_targ, max_length_inp))\n    \n    sentence = preprocess_sentence(sentence) \n    ## Now <start> and <end> has been attached\n    \n    inputs = [inp_lang.word2idx[i] for i in sentence.split(' ')]\n    inputs = tf.keras.preprocessing.sequence.pad_sequences([inputs], \n                                                           maxlen = max_length_inp, padding = 'post')\n    inputs = tf.convert_to_tensor(inputs)\n    \n    result = ''\n    ## initilising hidden layer -- 1024 zeros\n    hidden = [tf.zeros((1,units))]\n    \n    enc_out, enc_hidden = encoder(inputs, hidden)\n    \n    dec_hidden = enc_hidden\n    dec_input = tf.expand_dims([targ_lang.word2idx['<start>']], 0)\n    \n    for i in range(max_length_targ): ## 11\n        predictions, dec_hidden, attention_weights = decoder(dec_input, \n                                                             dec_hidden, enc_out)\n        \n        attention_weights = tf.reshape(attention_weights, (-1, ))\n        attention_plot[t] = attention_weights.numpy()\n        \n        predicted_id = tf.multinomial(predictions, num_samples = 1)[0][0].numpy()\n        \n        result += targ_lang.idx2word[predicted_id] + ' '\n        \n        ## if end is reached of sentencec\n        if targ_lang.idx2word[predicted_id] == \"<end>\":\n            return result, sentence, attention_plot\n        \n        dec_input = tf.expand_dims([predicted_id], 0)\n        \n    return result, sentence, attention_plot",
      "execution_count": 41,
      "outputs": []
    },
    {
      "metadata": {
        "trusted": true,
        "_uuid": "df39adb1723fe8125e8d286fdf3b56788e299ecf"
      },
      "cell_type": "code",
      "source": "def plot_attention(attention, sentence, predicted_sentence):\n    \n    fig = plt.figure(figsize = (10, 10))\n    ax = fig.add_subplot(1, 1, 1)\n    ax.matshow(attention, cmap = 'viridis')\n    \n    fontdict = {'fontsize' : 14}\n    \n    ax.set_xticklabels([''] + sentence, fontdict = fontdict, rotation = 90)\n    ax.set_yticklabels([''] + predicted_sentence, fontdict = fontdict)\n    \n    plt.show()",
      "execution_count": 53,
      "outputs": []
    },
    {
      "metadata": {
        "trusted": true,
        "_uuid": "4766121daadaae6035c4e141f44c65348be7e803"
      },
      "cell_type": "code",
      "source": "def translate(sentence, encoder, decoder, inp_lang, targ_lang, max_length_inp, max_length_targ):\n    \n    result, sentence, attention_plot = evaluate(sentence, encoder, decoder, inp_lang, targ_lang, max_length_inp, max_length_targ)\n    \n    print(\"Input : {}\".format(sentence))\n    print(\"Predicted translation: {}\".format(result))\n    \n    attention_plot = attention_plot[:len(result.split(' ')), :len(sentence.split(' '))]\n    plot_attention(attention_plot, sentence.split(' '), result.split(' '))",
      "execution_count": 60,
      "outputs": []
    },
    {
      "metadata": {
        "trusted": true,
        "_uuid": "ec9099ebacd6a285e38ef769fb248cd2da20409c"
      },
      "cell_type": "code",
      "source": "checkpoint.restore(tf.train.latest_checkpoint(checkpoint_dir))",
      "execution_count": 61,
      "outputs": [
        {
          "output_type": "execute_result",
          "execution_count": 61,
          "data": {
            "text/plain": "<tensorflow.python.training.checkpointable.util.CheckpointLoadStatus at 0x7fb9ea242eb8>"
          },
          "metadata": {}
        }
      ]
    },
    {
      "metadata": {
        "trusted": true,
        "_uuid": "0373e137d878e9889eeeedb989dffc804a89fd54"
      },
      "cell_type": "code",
      "source": "translate('hace mucho frio aqui.', encoder, decoder, inp_lang, targ_lang, max_length_inp, max_length_tar)",
      "execution_count": 62,
      "outputs": [
        {
          "output_type": "stream",
          "text": "Input : <start> hace mucho frio aqui . <end>\nPredicted translation: it s too cold here . <end> \n",
          "name": "stdout"
        },
        {
          "output_type": "display_data",
          "data": {
            "text/plain": "<Figure size 720x720 with 1 Axes>",
            "image/png": "[encoded data removed]"
          },
          "metadata": {
            "needs_background": "light"
          }
        }
      ]
    },
    {
      "metadata": {
        "trusted": true,
        "_uuid": "e175f2c4199fab9aae0a0da4c830fb890c53231d"
      },
      "cell_type": "code",
      "source": "translate('esta es mi vida.', encoder, decoder, inp_lang, targ_lang, max_length_inp, max_length_tar)\n",
      "execution_count": 46,
      "outputs": [
        {
          "output_type": "stream",
          "text": "Input : <start> esta es mi vida . <end>\nPredicted translation: this is my life . <end> \n",
          "name": "stdout"
        },
        {
          "output_type": "display_data",
          "data": {
            "text/plain": "<Figure size 720x720 with 1 Axes>",
            "image/png": "[encoded data removed]"
          },
          "metadata": {
            "needs_background": "light"
          }
        }
      ]
    },
    {
      "metadata": {
        "trusted": true,
        "_uuid": "a38b64b678c1c92d8c95e6b2aabd3cab24123f6d"
      },
      "cell_type": "code",
      "source": "translate('¿todavia estan en casa?', encoder, decoder, inp_lang, targ_lang, max_length_inp, max_length_tar)",
      "execution_count": 47,
      "outputs": [
        {
          "output_type": "stream",
          "text": "Input : <start> ¿ todavia estan en casa ? <end>\nPredicted translation: are they still at home ? <end> \n",
          "name": "stdout"
        },
        {
          "output_type": "display_data",
          "data": {
            "text/plain": "<Figure size 720x720 with 1 Axes>",
            "image/png": "[encoded data removed]"
          },
          "metadata": {
            "needs_background": "light"
          }
        }
      ]
    },
    {
      "metadata": {
        "trusted": true,
        "_uuid": "5ff6a81fd855150fa709744dcf8f76a712d2f0ba"
      },
      "cell_type": "code",
      "source": "translate('trata de averiguarlo.', encoder, decoder, inp_lang, targ_lang, max_length_inp, max_length_tar)",
      "execution_count": 48,
      "outputs": [
        {
          "output_type": "stream",
          "text": "Input : <start> trata de averiguarlo . <end>\nPredicted translation: wash up at find . <end> \n",
          "name": "stdout"
        },
        {
          "output_type": "display_data",
          "data": {
            "text/plain": "<Figure size 720x720 with 1 Axes>",
            "image/png": "[encoded data removed]"
          },
          "metadata": {
            "needs_background": "light"
          }
        }
      ]
    },
    {
      "metadata": {
        "trusted": false,
        "_uuid": "d4edd63476d7228a37614d632275677a3e6161f9"
      },
      "cell_type": "code",
      "source": "",
      "execution_count": null,
      "outputs": []
    },
    {
      "metadata": {
        "trusted": false,
        "_uuid": "9b85da3216ca46f0740dc734644ae455f7cf009c"
      },
      "cell_type": "code",
      "source": "",
      "execution_count": null,
      "outputs": []
    }
  ],
  "metadata": {
    "kernelspec": {
      "display_name": "Python 3",
      "language": "python",
      "name": "python3"
    },
    "language_info": {
      "name": "python",
      "version": "3.6.6",
      "mimetype": "text/x-python",
      "codemirror_mode": {
        "name": "ipython",
        "version": 3
      },
      "pygments_lexer": "ipython3",
      "nbconvert_exporter": "python",
      "file_extension": ".py"
    }
  },
  "nbformat": 4,
  "nbformat_minor": 1
}