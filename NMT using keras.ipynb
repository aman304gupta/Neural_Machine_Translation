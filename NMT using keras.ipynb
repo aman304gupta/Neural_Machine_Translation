{
 "cells": [
  {
   "cell_type": "code",
   "execution_count": 16,
   "metadata": {},
   "outputs": [],
   "source": [
    "import string\n",
    "import re\n",
    "from pickle import dump\n",
    "from unicodedata import normalize\n",
    "from numpy import array"
   ]
  },
  {
   "cell_type": "code",
   "execution_count": 17,
   "metadata": {},
   "outputs": [],
   "source": [
    "# load doc into memory\n",
    "def load_doc(filename):\n",
    "    file = open(filename, mode='rt', encoding='utf-8')\n",
    "    text = file.read()\n",
    "    file.close()\n",
    "    return text"
   ]
  },
  {
   "cell_type": "code",
   "execution_count": 18,
   "metadata": {},
   "outputs": [],
   "source": [
    "def to_pairs(doc):\n",
    "    lines = doc.strip().split('\\n')\n",
    "    pairs = [line.split('\\t') for line in  lines]\n",
    "    return pairs"
   ]
  },
  {
   "cell_type": "code",
   "execution_count": 19,
   "metadata": {},
   "outputs": [],
   "source": [
    "# cleaning\n",
    "def clean_pairs(lines):\n",
    "    cleaned = []\n",
    "    re_print = re.compile('[^%s]' % re.escape(string.printable))\n",
    "    # translation table\n",
    "    table = str.maketrans('', '', string.punctuation)\n",
    "    for pair in lines:\n",
    "        clean_pair = []\n",
    "        for line in pair:\n",
    "            line = normalize('NFD', line).encode('ascii', 'ignore')\n",
    "            line = line.decode('UTF-8')\n",
    "            line = line.split()\n",
    "            line = [word.lower() for word in line]\n",
    "            line = [word.translate(table) for word in line]\n",
    "            line = [re_print.sub('', w) for w in line]\n",
    "            line = [word for word in line if word.isalpha()]\n",
    "            clean_pair.append(' '.join(line))\n",
    "        cleaned.append(clean_pair)\n",
    "    return array(cleaned)"
   ]
  },
  {
   "cell_type": "code",
   "execution_count": 20,
   "metadata": {},
   "outputs": [],
   "source": [
    "# saving\n",
    "def save_clean_data(sentences, filename):\n",
    "    dump(sentences, open(filename, 'wb'))\n",
    "    print('Saved: %s' % filename)"
   ]
  },
  {
   "cell_type": "code",
   "execution_count": 21,
   "metadata": {},
   "outputs": [],
   "source": [
    "# load dataset\n",
    "filename = 'deu-eng/deu.txt'\n",
    "doc = load_doc(filename)"
   ]
  },
  {
   "cell_type": "code",
   "execution_count": 23,
   "metadata": {},
   "outputs": [
    {
     "data": {
      "text/plain": [
       "'Hi.\\tHallo!'"
      ]
     },
     "execution_count": 23,
     "metadata": {},
     "output_type": "execute_result"
    }
   ],
   "source": [
    "doc[0:10]"
   ]
  },
  {
   "cell_type": "code",
   "execution_count": 24,
   "metadata": {},
   "outputs": [],
   "source": [
    "pairs = to_pairs(doc)\n",
    "clean_pairs = clean_pairs(pairs)"
   ]
  },
  {
   "cell_type": "code",
   "execution_count": 25,
   "metadata": {},
   "outputs": [
    {
     "data": {
      "text/plain": [
       "array(['hi', 'hallo'], dtype='<U291')"
      ]
     },
     "execution_count": 25,
     "metadata": {},
     "output_type": "execute_result"
    }
   ],
   "source": [
    "clean_pairs[0]"
   ]
  },
  {
   "cell_type": "code",
   "execution_count": 28,
   "metadata": {},
   "outputs": [
    {
     "name": "stdout",
     "output_type": "stream",
     "text": [
      "Saved: english-german.pkl\n",
      "English -- German\n",
      "hi ----- hallo\n",
      "hi ----- gru gott\n",
      "run ----- lauf\n",
      "fire ----- feuer\n",
      "help ----- hilfe\n",
      "help ----- zu hulf\n",
      "stop ----- stopp\n",
      "wait ----- warte\n",
      "go on ----- mach weiter\n",
      "hello ----- hallo\n"
     ]
    }
   ],
   "source": [
    "save_clean_data(clean_pairs, 'english-german.pkl')\n",
    "print(\"English -- German\")\n",
    "for i in range(10):\n",
    "    print('%s ----- %s' % (clean_pairs[i,0], clean_pairs[i,1]))"
   ]
  },
  {
   "cell_type": "code",
   "execution_count": 29,
   "metadata": {},
   "outputs": [],
   "source": [
    "from pickle import load\n",
    "from pickle import dump\n",
    "from numpy.random import rand\n",
    "from numpy.random import shuffle\n",
    "\n",
    "# load a clean dataset\n",
    "def load_clean_sentences(filename):\n",
    "    return load(open(filename, 'rb'))\n",
    "\n",
    "# save a list of clean sentences to file\n",
    "def save_clean_data(sentences, filename):\n",
    "    dump(sentences, open(filename, 'wb'))\n",
    "    print('Saved: %s' % filename)"
   ]
  },
  {
   "cell_type": "code",
   "execution_count": 30,
   "metadata": {},
   "outputs": [
    {
     "name": "stdout",
     "output_type": "stream",
     "text": [
      "Saved: english-german-both.pkl\n",
      "Saved: english-german-train.pkl\n",
      "Saved: english-german-test.pkl\n"
     ]
    }
   ],
   "source": [
    "# load dataset\n",
    "raw_dataset = load_clean_sentences('english-german.pkl')\n",
    "\n",
    "# reduce dataset size\n",
    "n_sentences = 10000\n",
    "dataset = raw_dataset[:n_sentences, :]\n",
    "# random shuffle\n",
    "shuffle(dataset)\n",
    "# split into train/test\n",
    "train, test = dataset[:9000], dataset[9000:]\n",
    "# save\n",
    "save_clean_data(dataset, 'english-german-both.pkl')\n",
    "save_clean_data(train, 'english-german-train.pkl')\n",
    "save_clean_data(test, 'english-german-test.pkl')"
   ]
  },
  {
   "cell_type": "code",
   "execution_count": 31,
   "metadata": {},
   "outputs": [],
   "source": [
    "from pickle import load\n",
    "from numpy import array\n",
    "from keras.preprocessing.text import Tokenizer\n",
    "from keras.preprocessing.sequence import pad_sequences\n",
    "from keras.utils import to_categorical\n",
    "from keras.utils.vis_utils import plot_model\n",
    "from keras.models import Sequential\n",
    "from keras.layers import LSTM\n",
    "from keras.layers import Dense\n",
    "from keras.layers import Embedding\n",
    "from keras.layers import RepeatVector\n",
    "from keras.layers import TimeDistributed\n",
    "from keras.callbacks import ModelCheckpoint"
   ]
  },
  {
   "cell_type": "code",
   "execution_count": 32,
   "metadata": {},
   "outputs": [],
   "source": [
    "# fit a tokenizer\n",
    "def create_tokenizer(lines):\n",
    "    tokenizer = Tokenizer()\n",
    "    tokenizer.fit_on_texts(lines)\n",
    "    return tokenizer\n",
    "\n",
    "# max sentence length\n",
    "def max_length(lines):\n",
    "    return max(len(line.split()) for line in lines)"
   ]
  },
  {
   "cell_type": "code",
   "execution_count": 33,
   "metadata": {},
   "outputs": [],
   "source": [
    "# encode and pad sequences\n",
    "def encode_sequences(tokenizer, length, lines):\n",
    "    # integer encode sequences\n",
    "    X = tokenizer.texts_to_sequences(lines)\n",
    "    # pad sequences with 0 values\n",
    "    X = pad_sequences(X, maxlen=length, padding='post')\n",
    "    return X\n",
    "\n",
    "# one hot encode target sequence\n",
    "def encode_output(sequences, vocab_size):\n",
    "    ylist = list()\n",
    "    for sequence in sequences:\n",
    "        encoded = to_categorical(sequence, num_classes=vocab_size)\n",
    "        ylist.append(encoded)\n",
    "    y = array(ylist)\n",
    "    y = y.reshape(sequences.shape[0], sequences.shape[1], vocab_size)\n",
    "    return y"
   ]
  },
  {
   "cell_type": "code",
   "execution_count": 34,
   "metadata": {},
   "outputs": [],
   "source": [
    "# define NMT model\n",
    "def define_model(src_vocab, tar_vocab, src_timesteps, tar_timesteps, n_units):\n",
    "    model = Sequential()\n",
    "    model.add(Embedding(src_vocab, n_units, input_length=src_timesteps, mask_zero=True))\n",
    "    model.add(LSTM(n_units))\n",
    "    model.add(RepeatVector(tar_timesteps))\n",
    "    model.add(LSTM(n_units, return_sequences=True))\n",
    "    model.add(TimeDistributed(Dense(tar_vocab, activation='softmax')))\n",
    "    return model"
   ]
  },
  {
   "cell_type": "code",
   "execution_count": 35,
   "metadata": {},
   "outputs": [],
   "source": [
    "# load datasets\n",
    "dataset = load_clean_sentences('english-german-both.pkl')\n",
    "train = load_clean_sentences('english-german-train.pkl')\n",
    "test = load_clean_sentences('english-german-test.pkl')"
   ]
  },
  {
   "cell_type": "code",
   "execution_count": 36,
   "metadata": {},
   "outputs": [
    {
     "name": "stdout",
     "output_type": "stream",
     "text": [
      "English Vocabulary Size: 2315\n",
      "English Max Length: 5\n"
     ]
    }
   ],
   "source": [
    "# prepare english tokenizer\n",
    "eng_tokenizer = create_tokenizer(dataset[:, 0])\n",
    "eng_vocab_size = len(eng_tokenizer.word_index) + 1\n",
    "eng_length = max_length(dataset[:, 0])\n",
    "print('English Vocabulary Size: %d' % eng_vocab_size)\n",
    "print('English Max Length: %d' % (eng_length))"
   ]
  },
  {
   "cell_type": "code",
   "execution_count": 37,
   "metadata": {},
   "outputs": [
    {
     "name": "stdout",
     "output_type": "stream",
     "text": [
      "German Vocabulary Size: 3686\n",
      "German Max Length: 10\n"
     ]
    }
   ],
   "source": [
    "# prepare german tokenizer\n",
    "ger_tokenizer = create_tokenizer(dataset[:, 1])\n",
    "ger_vocab_size = len(ger_tokenizer.word_index) + 1\n",
    "ger_length = max_length(dataset[:, 1])\n",
    "print('German Vocabulary Size: %d' % ger_vocab_size)\n",
    "print('German Max Length: %d' % (ger_length))"
   ]
  },
  {
   "cell_type": "code",
   "execution_count": 38,
   "metadata": {},
   "outputs": [],
   "source": [
    "# prepare training data\n",
    "trainX = encode_sequences(ger_tokenizer, ger_length, train[:, 1])\n",
    "trainY = encode_sequences(eng_tokenizer, eng_length, train[:, 0])\n",
    "trainY = encode_output(trainY, eng_vocab_size)\n",
    "# prepare validation data\n",
    "testX = encode_sequences(ger_tokenizer, ger_length, test[:, 1])\n",
    "testY = encode_sequences(eng_tokenizer, eng_length, test[:, 0])\n",
    "testY = encode_output(testY, eng_vocab_size)"
   ]
  },
  {
   "cell_type": "code",
   "execution_count": 39,
   "metadata": {},
   "outputs": [
    {
     "name": "stdout",
     "output_type": "stream",
     "text": [
      "_________________________________________________________________\n",
      "Layer (type)                 Output Shape              Param #   \n",
      "=================================================================\n",
      "embedding_2 (Embedding)      (None, 10, 256)           943616    \n",
      "_________________________________________________________________\n",
      "lstm_3 (LSTM)                (None, 256)               525312    \n",
      "_________________________________________________________________\n",
      "repeat_vector_2 (RepeatVecto (None, 5, 256)            0         \n",
      "_________________________________________________________________\n",
      "lstm_4 (LSTM)                (None, 5, 256)            525312    \n",
      "_________________________________________________________________\n",
      "time_distributed_2 (TimeDist (None, 5, 2315)           594955    \n",
      "=================================================================\n",
      "Total params: 2,589,195\n",
      "Trainable params: 2,589,195\n",
      "Non-trainable params: 0\n",
      "_________________________________________________________________\n",
      "None\n"
     ]
    }
   ],
   "source": [
    "# define model\n",
    "model = define_model(ger_vocab_size, eng_vocab_size, ger_length, eng_length, 256)\n",
    "model.compile(optimizer='adam', loss='categorical_crossentropy')\n",
    "# summarize defined model\n",
    "print(model.summary())\n",
    "# plot_model(model, to_file='model.png', show_shapes=True)\n",
    "# fit model"
   ]
  },
  {
   "cell_type": "code",
   "execution_count": 1,
   "metadata": {},
   "outputs": [
    {
     "name": "stderr",
     "output_type": "stream",
     "text": [
      "Using TensorFlow backend.\n"
     ]
    },
    {
     "name": "stdout",
     "output_type": "stream",
     "text": [
      "English Vocabulary Size: 2315\n",
      "English Max Length: 5\n",
      "German Vocabulary Size: 3686\n",
      "German Max Length: 10\n",
      "_________________________________________________________________\n",
      "Layer (type)                 Output Shape              Param #   \n",
      "=================================================================\n",
      "embedding_1 (Embedding)      (None, 10, 256)           943616    \n",
      "_________________________________________________________________\n",
      "lstm_1 (LSTM)                (None, 256)               525312    \n",
      "_________________________________________________________________\n",
      "repeat_vector_1 (RepeatVecto (None, 5, 256)            0         \n",
      "_________________________________________________________________\n",
      "lstm_2 (LSTM)                (None, 5, 256)            525312    \n",
      "_________________________________________________________________\n",
      "time_distributed_1 (TimeDist (None, 5, 2315)           594955    \n",
      "=================================================================\n",
      "Total params: 2,589,195\n",
      "Trainable params: 2,589,195\n",
      "Non-trainable params: 0\n",
      "_________________________________________________________________\n",
      "None\n",
      "Train on 9000 samples, validate on 1000 samples\n",
      "Epoch 1/30\n",
      " - 32s - loss: 4.3023 - val_loss: 3.5528\n",
      "\n",
      "Epoch 00001: val_loss improved from inf to 3.55280, saving model to model.h5\n",
      "Epoch 2/30\n",
      " - 31s - loss: 3.4212 - val_loss: 3.3957\n",
      "\n",
      "Epoch 00002: val_loss improved from 3.55280 to 3.39565, saving model to model.h5\n",
      "Epoch 3/30\n",
      " - 28s - loss: 3.2768 - val_loss: 3.3157\n",
      "\n",
      "Epoch 00003: val_loss improved from 3.39565 to 3.31573, saving model to model.h5\n",
      "Epoch 4/30\n",
      " - 27s - loss: 3.1475 - val_loss: 3.1949\n",
      "\n",
      "Epoch 00004: val_loss improved from 3.31573 to 3.19490, saving model to model.h5\n",
      "Epoch 5/30\n",
      " - 22s - loss: 2.9940 - val_loss: 3.0864\n",
      "\n",
      "Epoch 00005: val_loss improved from 3.19490 to 3.08645, saving model to model.h5\n",
      "Epoch 6/30\n",
      " - 22s - loss: 2.8291 - val_loss: 2.9766\n",
      "\n",
      "Epoch 00006: val_loss improved from 3.08645 to 2.97655, saving model to model.h5\n",
      "Epoch 7/30\n",
      " - 23s - loss: 2.6649 - val_loss: 2.8066\n",
      "\n",
      "Epoch 00007: val_loss improved from 2.97655 to 2.80662, saving model to model.h5\n",
      "Epoch 8/30\n",
      " - 27s - loss: 2.4913 - val_loss: 2.6985\n",
      "\n",
      "Epoch 00008: val_loss improved from 2.80662 to 2.69845, saving model to model.h5\n",
      "Epoch 9/30\n",
      " - 33s - loss: 2.3208 - val_loss: 2.5759\n",
      "\n",
      "Epoch 00009: val_loss improved from 2.69845 to 2.57589, saving model to model.h5\n",
      "Epoch 10/30\n",
      " - 34s - loss: 2.1672 - val_loss: 2.4860\n",
      "\n",
      "Epoch 00010: val_loss improved from 2.57589 to 2.48605, saving model to model.h5\n",
      "Epoch 11/30\n",
      " - 27s - loss: 2.0279 - val_loss: 2.4304\n",
      "\n",
      "Epoch 00011: val_loss improved from 2.48605 to 2.43036, saving model to model.h5\n",
      "Epoch 12/30\n",
      " - 25s - loss: 1.8969 - val_loss: 2.3506\n",
      "\n",
      "Epoch 00012: val_loss improved from 2.43036 to 2.35058, saving model to model.h5\n",
      "Epoch 13/30\n",
      " - 24s - loss: 1.7692 - val_loss: 2.2946\n",
      "\n",
      "Epoch 00013: val_loss improved from 2.35058 to 2.29456, saving model to model.h5\n",
      "Epoch 14/30\n",
      " - 25s - loss: 1.6521 - val_loss: 2.2213\n",
      "\n",
      "Epoch 00014: val_loss improved from 2.29456 to 2.22131, saving model to model.h5\n",
      "Epoch 15/30\n",
      " - 27s - loss: 1.5397 - val_loss: 2.1784\n",
      "\n",
      "Epoch 00015: val_loss improved from 2.22131 to 2.17841, saving model to model.h5\n",
      "Epoch 16/30\n",
      " - 33s - loss: 1.4309 - val_loss: 2.1377\n",
      "\n",
      "Epoch 00016: val_loss improved from 2.17841 to 2.13766, saving model to model.h5\n",
      "Epoch 17/30\n",
      " - 31s - loss: 1.3292 - val_loss: 2.0981\n",
      "\n",
      "Epoch 00017: val_loss improved from 2.13766 to 2.09809, saving model to model.h5\n",
      "Epoch 18/30\n",
      " - 35s - loss: 1.2341 - val_loss: 2.0542\n",
      "\n",
      "Epoch 00018: val_loss improved from 2.09809 to 2.05416, saving model to model.h5\n",
      "Epoch 19/30\n",
      " - 36s - loss: 1.1369 - val_loss: 2.0344\n",
      "\n",
      "Epoch 00019: val_loss improved from 2.05416 to 2.03438, saving model to model.h5\n",
      "Epoch 20/30\n",
      " - 29s - loss: 1.0477 - val_loss: 1.9954\n",
      "\n",
      "Epoch 00020: val_loss improved from 2.03438 to 1.99537, saving model to model.h5\n",
      "Epoch 21/30\n",
      " - 33s - loss: 0.9606 - val_loss: 1.9893\n",
      "\n",
      "Epoch 00021: val_loss improved from 1.99537 to 1.98931, saving model to model.h5\n",
      "Epoch 22/30\n",
      " - 31s - loss: 0.8834 - val_loss: 1.9583\n",
      "\n",
      "Epoch 00022: val_loss improved from 1.98931 to 1.95834, saving model to model.h5\n",
      "Epoch 23/30\n",
      " - 33s - loss: 0.8088 - val_loss: 1.9527\n",
      "\n",
      "Epoch 00023: val_loss improved from 1.95834 to 1.95273, saving model to model.h5\n",
      "Epoch 24/30\n",
      " - 30s - loss: 0.7392 - val_loss: 1.9306\n",
      "\n",
      "Epoch 00024: val_loss improved from 1.95273 to 1.93057, saving model to model.h5\n",
      "Epoch 25/30\n",
      " - 30s - loss: 0.6748 - val_loss: 1.9202\n",
      "\n",
      "Epoch 00025: val_loss improved from 1.93057 to 1.92018, saving model to model.h5\n",
      "Epoch 26/30\n",
      " - 29s - loss: 0.6145 - val_loss: 1.9283\n",
      "\n",
      "Epoch 00026: val_loss did not improve from 1.92018\n",
      "Epoch 27/30\n",
      " - 30s - loss: 0.5579 - val_loss: 1.9174\n",
      "\n",
      "Epoch 00027: val_loss improved from 1.92018 to 1.91736, saving model to model.h5\n",
      "Epoch 28/30\n",
      " - 29s - loss: 0.5088 - val_loss: 1.9200\n",
      "\n",
      "Epoch 00028: val_loss did not improve from 1.91736\n",
      "Epoch 29/30\n",
      " - 30s - loss: 0.4590 - val_loss: 1.9198\n",
      "\n",
      "Epoch 00029: val_loss did not improve from 1.91736\n",
      "Epoch 30/30\n",
      " - 29s - loss: 0.4243 - val_loss: 1.9167\n",
      "\n",
      "Epoch 00030: val_loss improved from 1.91736 to 1.91666, saving model to model.h5\n"
     ]
    },
    {
     "data": {
      "text/plain": [
       "<keras.callbacks.History at 0x7fd50b8ddef0>"
      ]
     },
     "execution_count": 1,
     "metadata": {},
     "output_type": "execute_result"
    }
   ],
   "source": [
    "filename = 'model.h5'\n",
    "checkpoint = ModelCheckpoint(filename, monitor='val_loss', verbose=1, save_best_only=True, mode='min')\n",
    "model.fit(trainX, trainY, epochs=30, batch_size=64, validation_data=(testX, testY), callbacks=[checkpoint], verbose=2)"
   ]
  },
  {
   "cell_type": "code",
   "execution_count": null,
   "metadata": {},
   "outputs": [],
   "source": [
    "from pickle import load\n",
    "from numpy import array\n",
    "from numpy import argmax\n",
    "from keras.preprocessing.text import Tokenizer\n",
    "from keras.preprocessing.sequence import pad_sequences\n",
    "from keras.models import load_model\n",
    "from nltk.translate.bleu_score import corpus_bleu\n",
    "from nltk.translate.bleu_score import SmoothingFunction\n",
    "\n",
    "\n",
    "def word_for_id(integer, tokenizer):\n",
    "    for word, index in tokenizer.word_index.items():\n",
    "        if index == integer:\n",
    "            return word\n",
    "    return None"
   ]
  },
  {
   "cell_type": "code",
   "execution_count": null,
   "metadata": {},
   "outputs": [],
   "source": [
    "# generate target given source sequence\n",
    "def predict_sequence(model, tokenizer, source):\n",
    "    prediction = model.predict(source, verbose=0)[0]\n",
    "    integers = [argmax(vector) for vector in prediction]\n",
    "    target = list()\n",
    "    for i in integers:\n",
    "        word = word_for_id(i, tokenizer)\n",
    "        if word is None:\n",
    "            break\n",
    "        target.append(word)\n",
    "    return ' '.join(target)"
   ]
  },
  {
   "cell_type": "code",
   "execution_count": 86,
   "metadata": {},
   "outputs": [],
   "source": [
    "# evaluate the skill of the model\n",
    "def evaluate_model(model, tokenizer, sources, raw_dataset):\n",
    "    actual, predicted = [], []\n",
    "    for i, source in enumerate(sources):\n",
    "        source = source.reshape((1, source.shape[0]))\n",
    "        translation = predict_sequence(model, eng_tokenizer, source)\n",
    "        raw_target, raw_src = raw_dataset[i]\n",
    "        if i < 10:\n",
    "            print('src=[%s], target=[%s], predicted=[%s]' % (raw_src, raw_target, translation))\n",
    "        actual.append(raw_target.split())\n",
    "        predicted.append(translation.split())\n",
    "    # calculate BLEU score\n",
    "    cc = SmoothingFunction()\n",
    "    print('BLEU-1: %f' % corpus_bleu(actual, predicted, weights=(1.0, 0, 0, 0), smoothing_function=cc.method4))\n",
    "    print('BLEU-2: %f' % corpus_bleu(actual, predicted,weights=(0.5, 0.5, 0, 0), smoothing_function=cc.method4))\n",
    "    print('BLEU-3: %f' % corpus_bleu(actual, predicted, weights=(0.3, 0.3, 0.3, 0), smoothing_function=cc.method4))\n",
    "    print('BLEU-4: %f' % corpus_bleu(actual, predicted, weights=(0.25, 0.25, 0.25, 0.25), smoothing_function=cc.method4))"
   ]
  },
  {
   "cell_type": "code",
   "execution_count": 54,
   "metadata": {},
   "outputs": [
    {
     "data": {
      "text/plain": [
       "'i want it'"
      ]
     },
     "execution_count": 54,
     "metadata": {},
     "output_type": "execute_result"
    }
   ],
   "source": [
    "actual1, predicted1 = [], []\n",
    "source1 = trainX[0].reshape((1,trainX[0].shape[0]))\n",
    "translation1 = predict_sequence(model, eng_tokenizer, source1)\n",
    "translation1"
   ]
  },
  {
   "cell_type": "code",
   "execution_count": 55,
   "metadata": {},
   "outputs": [
    {
     "data": {
      "text/plain": [
       "'i want it'"
      ]
     },
     "execution_count": 55,
     "metadata": {},
     "output_type": "execute_result"
    }
   ],
   "source": [
    "raw_target1, raw_src1 = raw_dataset[0]\n",
    "raw_target1"
   ]
  },
  {
   "cell_type": "code",
   "execution_count": 56,
   "metadata": {},
   "outputs": [
    {
     "data": {
      "text/plain": [
       "[['i', 'want', 'it']]"
      ]
     },
     "execution_count": 56,
     "metadata": {},
     "output_type": "execute_result"
    }
   ],
   "source": [
    "actual1.append(raw_target1.split())\n",
    "predicted1.append(translation1.split())\n",
    "actual1"
   ]
  },
  {
   "cell_type": "code",
   "execution_count": 66,
   "metadata": {},
   "outputs": [
    {
     "data": {
      "text/plain": [
       "['i', 'want', 'it']"
      ]
     },
     "execution_count": 66,
     "metadata": {},
     "output_type": "execute_result"
    }
   ],
   "source": [
    "predicted1[0]"
   ]
  },
  {
   "cell_type": "code",
   "execution_count": 73,
   "metadata": {},
   "outputs": [
    {
     "name": "stderr",
     "output_type": "stream",
     "text": [
      "/home/aman/.conda/envs/tensorflow/lib/python3.6/site-packages/nltk/translate/bleu_score.py:503: UserWarning: \n",
      "The hypothesis contains 0 counts of 2-gram overlaps.\n",
      "Therefore the BLEU score evaluates to 0, independently of\n",
      "how many N-gram overlaps of lower order it contains.\n",
      "Consider using lower n-gram order or use SmoothingFunction()\n",
      "  warnings.warn(_msg)\n"
     ]
    },
    {
     "data": {
      "text/plain": [
       "1.491668146240062e-154"
      ]
     },
     "execution_count": 73,
     "metadata": {},
     "output_type": "execute_result"
    }
   ],
   "source": [
    "corpus_bleu(actual1[0],predicted1[0], weights = (0.5,0.5))"
   ]
  },
  {
   "cell_type": "code",
   "execution_count": 64,
   "metadata": {},
   "outputs": [],
   "source": [
    "from nltk.translate.bleu_score import corpus_bleu\n",
    "from nltk.translate.bleu_score import SmoothingFunction\n",
    "from nltk.translate.bleu_score import sentence_bleu\n",
    "from nltk.translate.bleu_score import modified_precision\n"
   ]
  },
  {
   "cell_type": "code",
   "execution_count": 70,
   "metadata": {},
   "outputs": [
    {
     "data": {
      "text/plain": [
       "1.0"
      ]
     },
     "execution_count": 70,
     "metadata": {},
     "output_type": "execute_result"
    }
   ],
   "source": [
    "float(modified_precision(actual1, predicted1[0], n=3))"
   ]
  },
  {
   "cell_type": "code",
   "execution_count": 83,
   "metadata": {},
   "outputs": [
    {
     "data": {
      "text/plain": [
       "1.0"
      ]
     },
     "execution_count": 83,
     "metadata": {},
     "output_type": "execute_result"
    }
   ],
   "source": [
    "sentence_bleu([['i','want','it']],['i','want','it'], weights=(0.5, 0.5),smoothing_function=cc.method2)"
   ]
  },
  {
   "cell_type": "code",
   "execution_count": 46,
   "metadata": {},
   "outputs": [],
   "source": [
    "# load datasets\n",
    "dataset = load_clean_sentences('english-german-both.pkl')\n",
    "train = load_clean_sentences('english-german-train.pkl')\n",
    "test = load_clean_sentences('english-german-test.pkl')\n",
    "\n",
    "eng_tokenizer = create_tokenizer(dataset[:, 0])\n",
    "eng_vocab_size = len(eng_tokenizer.word_index) + 1\n",
    "eng_length = max_length(dataset[:, 0])\n",
    "\n",
    "ger_tokenizer = create_tokenizer(dataset[:, 1])\n",
    "ger_vocab_size = len(ger_tokenizer.word_index) + 1\n",
    "ger_length = max_length(dataset[:, 1])\n",
    "\n",
    "trainX = encode_sequences(ger_tokenizer, ger_length, train[:, 1])\n",
    "testX = encode_sequences(ger_tokenizer, ger_length, test[:, 1])"
   ]
  },
  {
   "cell_type": "code",
   "execution_count": 47,
   "metadata": {},
   "outputs": [],
   "source": [
    "model = load_model('model.h5')"
   ]
  },
  {
   "cell_type": "code",
   "execution_count": 87,
   "metadata": {},
   "outputs": [
    {
     "name": "stdout",
     "output_type": "stream",
     "text": [
      "train\n",
      "src=[ich will es], target=[i want it], predicted=[i want it]\n",
      "src=[zeige deine karten], target=[show your cards], predicted=[her a books]\n",
      "src=[tom rief zuruck], target=[tom called back], predicted=[tom please busy]\n",
      "src=[sie sprechen schnell], target=[you talk fast], predicted=[they listen]\n",
      "src=[es ist eure wohnung], target=[its your home], predicted=[its by up]\n",
      "src=[er hat mit dem rauchen aufgehort], target=[he quit smoking], predicted=[he cant not]\n",
      "src=[lass uns hochgehen], target=[lets go up], predicted=[let us]\n",
      "src=[er redet viel], target=[he talks a lot], predicted=[he kids a lot]\n",
      "src=[wer hatte recht], target=[who was right], predicted=[who not]\n",
      "src=[ist es da drin], target=[is it in there], predicted=[just practicing to us]\n",
      "BLEU-1: 0.065863\n",
      "BLEU-2: 0.001959\n",
      "BLEU-3: 0.013097\n",
      "BLEU-4: 0.016069\n",
      "test\n",
      "src=[wir haben vorurteile], target=[were biased], predicted=[we working there]\n",
      "src=[lauf], target=[run], predicted=[]\n",
      "src=[es wird kaputt gehen], target=[itll break], predicted=[join cry]\n",
      "src=[ihr werdet alle sterben], target=[youll all die], predicted=[youre horse]\n",
      "src=[wer ist der junge da], target=[whos that boy], predicted=[mine on]\n",
      "src=[ich werde mich drum kummern], target=[ill get to it], predicted=[ill with about]\n",
      "src=[tom ruht sich aus], target=[tom is resting], predicted=[tom wife gate]\n",
      "src=[tom wurde bewusstlos], target=[tom blacked out], predicted=[tom has a lot]\n",
      "src=[hande weg], target=[hands off], predicted=[cool away]\n",
      "src=[wer ist in panik ausgebrochen], target=[who panicked], predicted=[mine the sad]\n",
      "BLEU-1: 0.071738\n",
      "BLEU-2: 0.109503\n",
      "BLEU-3: 0.146473\n",
      "BLEU-4: 0.120192\n"
     ]
    }
   ],
   "source": [
    "print('train')\n",
    "evaluate_model(model, eng_tokenizer, trainX, train)\n",
    "# test on some test sequences\n",
    "print('test')\n",
    "evaluate_model(model, eng_tokenizer, testX, test)"
   ]
  },
  {
   "cell_type": "code",
   "execution_count": null,
   "metadata": {},
   "outputs": [],
   "source": []
  }
 ],
 "metadata": {
  "kernelspec": {
   "display_name": "Python [conda env:tensorflow]",
   "language": "python",
   "name": "conda-env-tensorflow-py"
  },
  "language_info": {
   "codemirror_mode": {
    "name": "ipython",
    "version": 3
   },
   "file_extension": ".py",
   "mimetype": "text/x-python",
   "name": "python",
   "nbconvert_exporter": "python",
   "pygments_lexer": "ipython3",
   "version": "3.6.6"
  }
 },
 "nbformat": 4,
 "nbformat_minor": 2
}
